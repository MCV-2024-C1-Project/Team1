{
 "cells": [
  {
   "cell_type": "code",
   "execution_count": 1,
   "metadata": {},
   "outputs": [],
   "source": [
    "import cv2\n",
    "from data_loader import DataLoader\n",
    "import matplotlib.pyplot as plt\n",
    "import numpy as np\n",
    "from painting_detector import *\n",
    "from evaluation_funcs import *\n",
    "import os"
   ]
  },
  {
   "cell_type": "code",
   "execution_count": 2,
   "metadata": {},
   "outputs": [],
   "source": [
    "imgs_in_path = \"C:/Users/laila/Downloads/qsd2_w3/qsd2_w3\"\n",
    "images, imgs_names = DataLoader({\"dataset\": imgs_in_path}).load_images_from_folder(extension=\"jpg\", return_names=True)"
   ]
  },
  {
   "cell_type": "code",
   "execution_count": 3,
   "metadata": {},
   "outputs": [],
   "source": [
    "def compute_bg_removal(imgs_with_bg, imgs_names, output_dir):\n",
    "    all_cropped=[]\n",
    "    for idx, img in enumerate(imgs_with_bg):\n",
    "        detector = PaintingDetector(img)\n",
    "        # Detect and crop paintings\n",
    "        output_mask, cropped_paintings = detector.detect_and_crop_paintings()\n",
    "        all_cropped.append(cropped_paintings)\n",
    "        # Save mask\n",
    "        name, ext = imgs_names[idx].rsplit(\".\", 1)\n",
    "        filename = f\"{name}.png\"\n",
    "        cv2.imwrite(os.path.join(output_dir, filename), output_mask)\n",
    "    return all_cropped\n",
    "        \n",
    "def evaluate_bg_removal(candidates, ground_truth):\n",
    "    [TP, FP, FN, TN] = performance_accumulation_pixel(candidates, ground_truth)\n",
    "    [pixel_precision, pixel_accuracy, pixel_specificity, pixel_sensitivity] = performance_evaluation_pixel(TP, FP, FN, TN)\n",
    "    return pixel_precision, pixel_sensitivity"
   ]
  },
  {
   "cell_type": "code",
   "execution_count": 4,
   "metadata": {},
   "outputs": [],
   "source": [
    "\n",
    "masks_gt, masks_gt_names = DataLoader({\"dataset\": imgs_in_path}).load_images_from_folder(extension=\"png\", return_names=True)\n",
    "# Create output directory\n",
    "output_path = f\"{imgs_in_path}/output\"\n",
    "os.makedirs(output_path, exist_ok=True)\n",
    "cropped_paintings = compute_bg_removal(images, imgs_names, output_path)\n",
    "\n",
    "\n"
   ]
  },
  {
   "cell_type": "code",
   "execution_count": 5,
   "metadata": {},
   "outputs": [],
   "source": [
    "import pickle\n",
    "\n",
    "# Dump the list into a pickle file\n",
    "with open('cropped_paintings.pickle', 'wb') as f:\n",
    "    pickle.dump(cropped_paintings, f)"
   ]
  },
  {
   "cell_type": "code",
   "execution_count": 6,
   "metadata": {},
   "outputs": [
    {
     "name": "stdout",
     "output_type": "stream",
     "text": [
      "TASK 3: Compare masks ---------------\n",
      "Precision: 0.9871743837620577\n",
      "Recall: 0.9238775230013773\n",
      "F1: 0.954477710639598\n",
      "-------------------------------------\n"
     ]
    }
   ],
   "source": [
    "# TASK 3 -------------------------------------------------------------------------\n",
    "masks_without_bg, masks_names = DataLoader({\"dataset\": output_path}).load_images_from_folder(extension=\"png\", return_names=True)\n",
    "    \n",
    "precision = []\n",
    "recall = []\n",
    "for idx, mask in enumerate(masks_without_bg):\n",
    "    p, r = evaluate_bg_removal(mask, masks_gt[idx])\n",
    "    precision.append(p)\n",
    "    recall.append(r)\n",
    "f1 = calculate_f1_score(precision, recall)\n",
    "print(\"TASK 3: Compare masks ---------------\")\n",
    "print(f\"Precision: {np.mean(precision)}\")\n",
    "print(f\"Recall: {np.mean(recall)}\")\n",
    "print(f\"F1: {f1}\")\n",
    "print(\"-------------------------------------\")"
   ]
  }
 ],
 "metadata": {
  "kernelspec": {
   "display_name": "Python 3",
   "language": "python",
   "name": "python3"
  },
  "language_info": {
   "codemirror_mode": {
    "name": "ipython",
    "version": 3
   },
   "file_extension": ".py",
   "mimetype": "text/x-python",
   "name": "python",
   "nbconvert_exporter": "python",
   "pygments_lexer": "ipython3",
   "version": "3.12.7"
  }
 },
 "nbformat": 4,
 "nbformat_minor": 2
}
